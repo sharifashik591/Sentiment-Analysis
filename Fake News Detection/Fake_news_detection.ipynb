{
  "nbformat": 4,
  "nbformat_minor": 0,
  "metadata": {
    "colab": {
      "name": "Fake-news-detection.ipynb",
      "provenance": [],
      "collapsed_sections": []
    },
    "kernelspec": {
      "name": "python3",
      "display_name": "Python 3"
    },
    "language_info": {
      "name": "python"
    },
    "accelerator": "GPU"
  },
  "cells": [
    {
      "cell_type": "markdown",
      "metadata": {
        "id": "IRLNlVM3--Q3"
      },
      "source": [
        "Import library"
      ]
    },
    {
      "cell_type": "code",
      "metadata": {
        "id": "_8LzlBpgWQZ7"
      },
      "source": [
        "import pandas as pd\n",
        "import numpy as np\n",
        "import re\n",
        "from sklearn.utils import shuffle"
      ],
      "execution_count": 2,
      "outputs": []
    },
    {
      "cell_type": "markdown",
      "metadata": {
        "id": "ra2RmLbw_B3I"
      },
      "source": [
        "Load data"
      ]
    },
    {
      "cell_type": "code",
      "metadata": {
        "id": "C7dIMucgXeQ-"
      },
      "source": [
        "real=pd.read_csv('./True.csv')\n",
        "fake=pd.read_csv('./Fake.csv')\n"
      ],
      "execution_count": 13,
      "outputs": []
    },
    {
      "cell_type": "code",
      "metadata": {
        "colab": {
          "base_uri": "https://localhost:8080/",
          "height": 195
        },
        "id": "62lE3PmraXvF",
        "outputId": "5060b302-deab-4a85-9cee-d3aa11bae322"
      },
      "source": [
        "real.head()"
      ],
      "execution_count": 14,
      "outputs": [
        {
          "output_type": "execute_result",
          "data": {
            "text/html": [
              "<div>\n",
              "<style scoped>\n",
              "    .dataframe tbody tr th:only-of-type {\n",
              "        vertical-align: middle;\n",
              "    }\n",
              "\n",
              "    .dataframe tbody tr th {\n",
              "        vertical-align: top;\n",
              "    }\n",
              "\n",
              "    .dataframe thead th {\n",
              "        text-align: right;\n",
              "    }\n",
              "</style>\n",
              "<table border=\"1\" class=\"dataframe\">\n",
              "  <thead>\n",
              "    <tr style=\"text-align: right;\">\n",
              "      <th></th>\n",
              "      <th>title</th>\n",
              "      <th>text</th>\n",
              "      <th>subject</th>\n",
              "      <th>date</th>\n",
              "    </tr>\n",
              "  </thead>\n",
              "  <tbody>\n",
              "    <tr>\n",
              "      <th>0</th>\n",
              "      <td>As U.S. budget fight looms, Republicans flip t...</td>\n",
              "      <td>WASHINGTON (Reuters) - The head of a conservat...</td>\n",
              "      <td>politicsNews</td>\n",
              "      <td>December 31, 2017</td>\n",
              "    </tr>\n",
              "    <tr>\n",
              "      <th>1</th>\n",
              "      <td>U.S. military to accept transgender recruits o...</td>\n",
              "      <td>WASHINGTON (Reuters) - Transgender people will...</td>\n",
              "      <td>politicsNews</td>\n",
              "      <td>December 29, 2017</td>\n",
              "    </tr>\n",
              "    <tr>\n",
              "      <th>2</th>\n",
              "      <td>Senior U.S. Republican senator: 'Let Mr. Muell...</td>\n",
              "      <td>WASHINGTON (Reuters) - The special counsel inv...</td>\n",
              "      <td>politicsNews</td>\n",
              "      <td>December 31, 2017</td>\n",
              "    </tr>\n",
              "    <tr>\n",
              "      <th>3</th>\n",
              "      <td>FBI Russia probe helped by Australian diplomat...</td>\n",
              "      <td>WASHINGTON (Reuters) - Trump campaign adviser ...</td>\n",
              "      <td>politicsNews</td>\n",
              "      <td>December 30, 2017</td>\n",
              "    </tr>\n",
              "    <tr>\n",
              "      <th>4</th>\n",
              "      <td>Trump wants Postal Service to charge 'much mor...</td>\n",
              "      <td>SEATTLE/WASHINGTON (Reuters) - President Donal...</td>\n",
              "      <td>politicsNews</td>\n",
              "      <td>December 29, 2017</td>\n",
              "    </tr>\n",
              "  </tbody>\n",
              "</table>\n",
              "</div>"
            ],
            "text/plain": [
              "                                               title  ...                date\n",
              "0  As U.S. budget fight looms, Republicans flip t...  ...  December 31, 2017 \n",
              "1  U.S. military to accept transgender recruits o...  ...  December 29, 2017 \n",
              "2  Senior U.S. Republican senator: 'Let Mr. Muell...  ...  December 31, 2017 \n",
              "3  FBI Russia probe helped by Australian diplomat...  ...  December 30, 2017 \n",
              "4  Trump wants Postal Service to charge 'much mor...  ...  December 29, 2017 \n",
              "\n",
              "[5 rows x 4 columns]"
            ]
          },
          "metadata": {
            "tags": []
          },
          "execution_count": 14
        }
      ]
    },
    {
      "cell_type": "code",
      "metadata": {
        "colab": {
          "base_uri": "https://localhost:8080/",
          "height": 195
        },
        "id": "pOXSRdvwaZ2p",
        "outputId": "377f410c-761d-4d47-a613-43775528b940"
      },
      "source": [
        "fake.head()"
      ],
      "execution_count": 15,
      "outputs": [
        {
          "output_type": "execute_result",
          "data": {
            "text/html": [
              "<div>\n",
              "<style scoped>\n",
              "    .dataframe tbody tr th:only-of-type {\n",
              "        vertical-align: middle;\n",
              "    }\n",
              "\n",
              "    .dataframe tbody tr th {\n",
              "        vertical-align: top;\n",
              "    }\n",
              "\n",
              "    .dataframe thead th {\n",
              "        text-align: right;\n",
              "    }\n",
              "</style>\n",
              "<table border=\"1\" class=\"dataframe\">\n",
              "  <thead>\n",
              "    <tr style=\"text-align: right;\">\n",
              "      <th></th>\n",
              "      <th>title</th>\n",
              "      <th>text</th>\n",
              "      <th>subject</th>\n",
              "      <th>date</th>\n",
              "    </tr>\n",
              "  </thead>\n",
              "  <tbody>\n",
              "    <tr>\n",
              "      <th>0</th>\n",
              "      <td>Donald Trump Sends Out Embarrassing New Year’...</td>\n",
              "      <td>Donald Trump just couldn t wish all Americans ...</td>\n",
              "      <td>News</td>\n",
              "      <td>December 31, 2017</td>\n",
              "    </tr>\n",
              "    <tr>\n",
              "      <th>1</th>\n",
              "      <td>Drunk Bragging Trump Staffer Started Russian ...</td>\n",
              "      <td>House Intelligence Committee Chairman Devin Nu...</td>\n",
              "      <td>News</td>\n",
              "      <td>December 31, 2017</td>\n",
              "    </tr>\n",
              "    <tr>\n",
              "      <th>2</th>\n",
              "      <td>Sheriff David Clarke Becomes An Internet Joke...</td>\n",
              "      <td>On Friday, it was revealed that former Milwauk...</td>\n",
              "      <td>News</td>\n",
              "      <td>December 30, 2017</td>\n",
              "    </tr>\n",
              "    <tr>\n",
              "      <th>3</th>\n",
              "      <td>Trump Is So Obsessed He Even Has Obama’s Name...</td>\n",
              "      <td>On Christmas day, Donald Trump announced that ...</td>\n",
              "      <td>News</td>\n",
              "      <td>December 29, 2017</td>\n",
              "    </tr>\n",
              "    <tr>\n",
              "      <th>4</th>\n",
              "      <td>Pope Francis Just Called Out Donald Trump Dur...</td>\n",
              "      <td>Pope Francis used his annual Christmas Day mes...</td>\n",
              "      <td>News</td>\n",
              "      <td>December 25, 2017</td>\n",
              "    </tr>\n",
              "  </tbody>\n",
              "</table>\n",
              "</div>"
            ],
            "text/plain": [
              "                                               title  ...               date\n",
              "0   Donald Trump Sends Out Embarrassing New Year’...  ...  December 31, 2017\n",
              "1   Drunk Bragging Trump Staffer Started Russian ...  ...  December 31, 2017\n",
              "2   Sheriff David Clarke Becomes An Internet Joke...  ...  December 30, 2017\n",
              "3   Trump Is So Obsessed He Even Has Obama’s Name...  ...  December 29, 2017\n",
              "4   Pope Francis Just Called Out Donald Trump Dur...  ...  December 25, 2017\n",
              "\n",
              "[5 rows x 4 columns]"
            ]
          },
          "metadata": {
            "tags": []
          },
          "execution_count": 15
        }
      ]
    },
    {
      "cell_type": "code",
      "metadata": {
        "id": "lnjrEORYak6h"
      },
      "source": [
        "real['value']=1\n",
        "fake['value']=0\n",
        "\n",
        "data=pd.concat([true,fake],ignore_index=True)\n",
        "data=shuffle(data)"
      ],
      "execution_count": 22,
      "outputs": []
    },
    {
      "cell_type": "code",
      "metadata": {
        "colab": {
          "base_uri": "https://localhost:8080/",
          "height": 343
        },
        "id": "kIL3KO2IbUMk",
        "outputId": "2a7e977b-bee2-470e-a80d-6125f3fff484"
      },
      "source": [
        "data.sample(10)"
      ],
      "execution_count": 23,
      "outputs": [
        {
          "output_type": "execute_result",
          "data": {
            "text/html": [
              "<div>\n",
              "<style scoped>\n",
              "    .dataframe tbody tr th:only-of-type {\n",
              "        vertical-align: middle;\n",
              "    }\n",
              "\n",
              "    .dataframe tbody tr th {\n",
              "        vertical-align: top;\n",
              "    }\n",
              "\n",
              "    .dataframe thead th {\n",
              "        text-align: right;\n",
              "    }\n",
              "</style>\n",
              "<table border=\"1\" class=\"dataframe\">\n",
              "  <thead>\n",
              "    <tr style=\"text-align: right;\">\n",
              "      <th></th>\n",
              "      <th>title</th>\n",
              "      <th>text</th>\n",
              "      <th>subject</th>\n",
              "      <th>date</th>\n",
              "      <th>value</th>\n",
              "    </tr>\n",
              "  </thead>\n",
              "  <tbody>\n",
              "    <tr>\n",
              "      <th>17784</th>\n",
              "      <td>New Afghan peace talks expected in Oman but Ta...</td>\n",
              "      <td>KABUL/PESHAWAR, Pakistan (Reuters) - Represent...</td>\n",
              "      <td>worldnews</td>\n",
              "      <td>October 11, 2017</td>\n",
              "      <td>1</td>\n",
              "    </tr>\n",
              "    <tr>\n",
              "      <th>10931</th>\n",
              "      <td>Obama, Italy's Mattarella discuss fight agains...</td>\n",
              "      <td>WASHINGTON (Reuters) - U.S. President Barack O...</td>\n",
              "      <td>politicsNews</td>\n",
              "      <td>February 8, 2016</td>\n",
              "      <td>1</td>\n",
              "    </tr>\n",
              "    <tr>\n",
              "      <th>10738</th>\n",
              "      <td>Republican Marco Rubio winning Wall Street fun...</td>\n",
              "      <td>WASHINGTON/NEW YORK (Reuters) - Republican Mar...</td>\n",
              "      <td>politicsNews</td>\n",
              "      <td>February 22, 2016</td>\n",
              "      <td>1</td>\n",
              "    </tr>\n",
              "    <tr>\n",
              "      <th>26272</th>\n",
              "      <td>Maine GOP State Senator Sick Of His Bullsh*t ...</td>\n",
              "      <td>Republicans in Maine tolerated Governor Paul L...</td>\n",
              "      <td>News</td>\n",
              "      <td>August 29, 2016</td>\n",
              "      <td>0</td>\n",
              "    </tr>\n",
              "    <tr>\n",
              "      <th>38883</th>\n",
              "      <td>EMBARRASSING: Anti-Trump “THE HILL” Gets SLAMM...</td>\n",
              "      <td>#JokeNewsAfter record, cold temperatures were ...</td>\n",
              "      <td>left-news</td>\n",
              "      <td>Dec 30, 2017</td>\n",
              "      <td>0</td>\n",
              "    </tr>\n",
              "    <tr>\n",
              "      <th>44106</th>\n",
              "      <td>#Hashtag Hell &amp; The Fake Left</td>\n",
              "      <td>By Dady Chery and Gilbert MercierAll writers ...</td>\n",
              "      <td>US_News</td>\n",
              "      <td>January 19, 2016</td>\n",
              "      <td>0</td>\n",
              "    </tr>\n",
              "    <tr>\n",
              "      <th>5987</th>\n",
              "      <td>Trump administration debates designating Musli...</td>\n",
              "      <td>WASHINGTON (Reuters) - A debate is under way i...</td>\n",
              "      <td>politicsNews</td>\n",
              "      <td>January 29, 2017</td>\n",
              "      <td>1</td>\n",
              "    </tr>\n",
              "    <tr>\n",
              "      <th>23238</th>\n",
              "      <td>Anne Frank Center SAVAGES Spicer After He Sai...</td>\n",
              "      <td>It s no secret that a large percentage of the ...</td>\n",
              "      <td>News</td>\n",
              "      <td>April 11, 2017</td>\n",
              "      <td>0</td>\n",
              "    </tr>\n",
              "    <tr>\n",
              "      <th>44019</th>\n",
              "      <td>Utah Ranchers Vow to Stand Up to Government Ab...</td>\n",
              "      <td>Sam Levin The GuardianOn 23 January, a group o...</td>\n",
              "      <td>US_News</td>\n",
              "      <td>April 5, 2016</td>\n",
              "      <td>0</td>\n",
              "    </tr>\n",
              "    <tr>\n",
              "      <th>5021</th>\n",
              "      <td>Trump invites Palestinian leader Abbas to Whit...</td>\n",
              "      <td>JERUSALEM (Reuters) - U.S. President Donald Tr...</td>\n",
              "      <td>politicsNews</td>\n",
              "      <td>March 10, 2017</td>\n",
              "      <td>1</td>\n",
              "    </tr>\n",
              "  </tbody>\n",
              "</table>\n",
              "</div>"
            ],
            "text/plain": [
              "                                                   title  ... value\n",
              "17784  New Afghan peace talks expected in Oman but Ta...  ...     1\n",
              "10931  Obama, Italy's Mattarella discuss fight agains...  ...     1\n",
              "10738  Republican Marco Rubio winning Wall Street fun...  ...     1\n",
              "26272   Maine GOP State Senator Sick Of His Bullsh*t ...  ...     0\n",
              "38883  EMBARRASSING: Anti-Trump “THE HILL” Gets SLAMM...  ...     0\n",
              "44106                      #Hashtag Hell & The Fake Left  ...     0\n",
              "5987   Trump administration debates designating Musli...  ...     1\n",
              "23238   Anne Frank Center SAVAGES Spicer After He Sai...  ...     0\n",
              "44019  Utah Ranchers Vow to Stand Up to Government Ab...  ...     0\n",
              "5021   Trump invites Palestinian leader Abbas to Whit...  ...     1\n",
              "\n",
              "[10 rows x 5 columns]"
            ]
          },
          "metadata": {
            "tags": []
          },
          "execution_count": 23
        }
      ]
    },
    {
      "cell_type": "code",
      "metadata": {
        "colab": {
          "base_uri": "https://localhost:8080/"
        },
        "id": "0yQM3JAYbh5Z",
        "outputId": "25cdc7d6-e22d-4ab8-d7ca-a8d3a4d57970"
      },
      "source": [
        "data.info()"
      ],
      "execution_count": 24,
      "outputs": [
        {
          "output_type": "stream",
          "text": [
            "<class 'pandas.core.frame.DataFrame'>\n",
            "Int64Index: 44898 entries, 12602 to 39133\n",
            "Data columns (total 5 columns):\n",
            " #   Column   Non-Null Count  Dtype \n",
            "---  ------   --------------  ----- \n",
            " 0   title    44898 non-null  object\n",
            " 1   text     44898 non-null  object\n",
            " 2   subject  44898 non-null  object\n",
            " 3   date     44898 non-null  object\n",
            " 4   value    44898 non-null  int64 \n",
            "dtypes: int64(1), object(4)\n",
            "memory usage: 2.1+ MB\n"
          ],
          "name": "stdout"
        }
      ]
    },
    {
      "cell_type": "code",
      "metadata": {
        "id": "2MOLxO42b15l"
      },
      "source": [
        "data.drop(columns=['subject','date'],axis=1,inplace=True)"
      ],
      "execution_count": 25,
      "outputs": []
    },
    {
      "cell_type": "code",
      "metadata": {
        "colab": {
          "base_uri": "https://localhost:8080/",
          "height": 195
        },
        "id": "LoF4zi9JcFXS",
        "outputId": "578433ed-8778-47b6-968c-86fb29850cb8"
      },
      "source": [
        "data.head()"
      ],
      "execution_count": 26,
      "outputs": [
        {
          "output_type": "execute_result",
          "data": {
            "text/html": [
              "<div>\n",
              "<style scoped>\n",
              "    .dataframe tbody tr th:only-of-type {\n",
              "        vertical-align: middle;\n",
              "    }\n",
              "\n",
              "    .dataframe tbody tr th {\n",
              "        vertical-align: top;\n",
              "    }\n",
              "\n",
              "    .dataframe thead th {\n",
              "        text-align: right;\n",
              "    }\n",
              "</style>\n",
              "<table border=\"1\" class=\"dataframe\">\n",
              "  <thead>\n",
              "    <tr style=\"text-align: right;\">\n",
              "      <th></th>\n",
              "      <th>title</th>\n",
              "      <th>text</th>\n",
              "      <th>value</th>\n",
              "    </tr>\n",
              "  </thead>\n",
              "  <tbody>\n",
              "    <tr>\n",
              "      <th>12602</th>\n",
              "      <td>Britain committed to no hard Irish border, wha...</td>\n",
              "      <td>LONDON (Reuters) - Britain intends to prevent ...</td>\n",
              "      <td>1</td>\n",
              "    </tr>\n",
              "    <tr>\n",
              "      <th>31097</th>\n",
              "      <td>CLINTON FAMILY REFUSES TO RETURN ‘Dirty’ Harve...</td>\n",
              "      <td>After Bill  and Chelsea Clinton both dodged re...</td>\n",
              "      <td>0</td>\n",
              "    </tr>\n",
              "    <tr>\n",
              "      <th>28541</th>\n",
              "      <td>Megyn Kelly Laughably Claims Fox News Does No...</td>\n",
              "      <td>You ll have a hard time not laughing out loud ...</td>\n",
              "      <td>0</td>\n",
              "    </tr>\n",
              "    <tr>\n",
              "      <th>37444</th>\n",
              "      <td>JPMORGAN CEO Blows Up at the DC Dysfunction: T...</td>\n",
              "      <td>JPMorgan Chase CEO Jamie Dimon went on a rant ...</td>\n",
              "      <td>0</td>\n",
              "    </tr>\n",
              "    <tr>\n",
              "      <th>4850</th>\n",
              "      <td>White House tax reform may begin in late sprin...</td>\n",
              "      <td>DUBLIN (Reuters) - President Donald Trump may ...</td>\n",
              "      <td>1</td>\n",
              "    </tr>\n",
              "  </tbody>\n",
              "</table>\n",
              "</div>"
            ],
            "text/plain": [
              "                                                   title  ... value\n",
              "12602  Britain committed to no hard Irish border, wha...  ...     1\n",
              "31097  CLINTON FAMILY REFUSES TO RETURN ‘Dirty’ Harve...  ...     0\n",
              "28541   Megyn Kelly Laughably Claims Fox News Does No...  ...     0\n",
              "37444  JPMORGAN CEO Blows Up at the DC Dysfunction: T...  ...     0\n",
              "4850   White House tax reform may begin in late sprin...  ...     1\n",
              "\n",
              "[5 rows x 3 columns]"
            ]
          },
          "metadata": {
            "tags": []
          },
          "execution_count": 26
        }
      ]
    },
    {
      "cell_type": "code",
      "metadata": {
        "colab": {
          "base_uri": "https://localhost:8080/",
          "height": 137
        },
        "id": "Ql2HJ3FgcOcS",
        "outputId": "6db125a2-be38-46a7-fabb-5977be844e57"
      },
      "source": [
        "data['text'][100]"
      ],
      "execution_count": 31,
      "outputs": [
        {
          "output_type": "execute_result",
          "data": {
            "application/vnd.google.colaboratory.intrinsic+json": {
              "type": "string"
            },
            "text/plain": [
              "'WASHINGTON (Reuters) - Democratic Senator Elizabeth Warren is taking aim at budget chief Mick Mulvaney’s plan to fill the ranks of the U.S. consumer financial watchdog with political allies, according to letters seen by Reuters, the latest salvo in a broader battle over who should run the bureau. President Donald Trump last month appointed Mulvaney as acting director of the Consumer Financial Protection Bureau (CFPB), though the decision is being legally challenged by the agency’s deputy director, Leandra English, who says she is the rightful interim head. Mulvaney told reporters earlier this month he planned to bring in several political appointees to help overhaul the agency, but Warren warned in a pair of letters sent Monday to Mulvaney and the Office of Personnel Management (OPM), which oversees federal hiring, that doing so was inappropriate and potentially illegal. The CFPB is meant to be an independent agency staffed primarily by non-political employees. Hiring political appointees could violate civil service laws designed to protect such employees from undue political pressure and discrimination, Warren said. “Your naked effort to politicize the consumer agency runs counter to the agency’s mission to be an independent voice for consumers with the power to stand up to Wall Street banks,” Warren, who helped create the CFPB, wrote to Mulvaney. In a separate letter, Warren asked the OPM to review Mulvaney’s “unprecedented and unjustified” plans. In a third letter sent to Mulvaney and English, Warren asked for information about a review of ongoing enforcement actions at the CFPB. Reuters reported earlier this month that a potential multimillion-dollar settlement with Wells Fargo is among the enforcement actions under review amid the change in CFPB leadership. Spokespeople for Mulvaney and the OPM did not immediately respond to requests for comment. Mulvaney, who also serves directly under Trump as the head of his Office of Management and Budget (OMB), said in the long term he would like to see professional staff alongisde political appointees, mirroring an arrangement in place at the OMB.  “We will be staffing up with more permanent political people so the professional staff here have a better feel for where the administration wants to take the bureau,” Mulvaney said.  But Warren said such an arrangement, though understandable for bureaus like the OMB which sit directly beneath the White House, was not suitable for independent financial regulators. The leadership of the CFPB has been in question since the agency’s first director, Richard Cordray, resigned in November. '"
            ]
          },
          "metadata": {
            "tags": []
          },
          "execution_count": 31
        }
      ]
    },
    {
      "cell_type": "markdown",
      "metadata": {
        "id": "GWrzW1uAcpDo"
      },
      "source": [
        "**Remove RegEx**"
      ]
    },
    {
      "cell_type": "code",
      "metadata": {
        "id": "t9uNj_uScXFw"
      },
      "source": [
        "data['processed']=data['text'].map(lambda x: re.sub('(Reuters)','',x))\n",
        "data['processed']=data['processed'].map(lambda x: re.sub('[^A-Za-z0-9]+',' ',x))\n",
        "data['processed']=data['processed'].map(lambda x: x.lower())"
      ],
      "execution_count": 70,
      "outputs": []
    },
    {
      "cell_type": "code",
      "metadata": {
        "colab": {
          "base_uri": "https://localhost:8080/",
          "height": 137
        },
        "id": "cFBdeGHxhGwh",
        "outputId": "cc3e31ac-4ef6-4ed2-8c9b-524c29d93793"
      },
      "source": [
        "data['processed'][20]"
      ],
      "execution_count": 71,
      "outputs": [
        {
          "output_type": "execute_result",
          "data": {
            "application/vnd.google.colaboratory.intrinsic+json": {
              "type": "string"
            },
            "text/plain": [
              "'washington a federal judge in seattle partially blocked u s president donald trump s newest restrictions on refugee admissions on saturday the latest legal defeat for his efforts to curtail immigration and travel to the united states the decision by u s district judge james robart is the first judicial curb on rules the trump administration put into place in late october that have contributed significantly to a precipitous drop in the number of refugees being admitted into the country refugees and groups that assist them argued in court that the administration s policies violated the constitution and federal rulemaking procedures among other claims department of justice attorneys argued in part that u s law grants the executive branch the authority to limit refugee admissions in the way that it had done so on oct 24 the trump administration effectively paused refugee admissions from 11 countries mostly in the middle east and africa pending a 90 day security review which was set to expire in late january the countries subject to the review are egypt iran iraq libya mali north korea somalia south sudan sudan syria and yemen for each of the last three years refugees from the 11 countries made up more than 40 percent of u s admissions a review of state department data showed that as the review went into effect refugee admissions from the 11 countries plummeted robart ruled that the administration could carry out the security review but that it could not stop processing or admitting refugees from the 11 countries in the meantime as long as those refugees have a bona fide connection to the united states as part of its new restrictions the trump administration had also paused a program that allowed for family reunification for refugees pending further security screening procedures being put into place robart ordered the government to re start the program known as follow to join approximately 2 000 refugees were admitted into the united states in fiscal year 2015 under the program according to department of homeland security data refugee advocacy groups praised robart s decision this ruling brings relief to thousands of refugees in precarious situations in the middle east and east africa as well as to refugees already in the u s who are trying to reunite with their spouses and children said mariko hirose litigation director for the international refugee assistance project one of the plaintiffs in the case a justice department spokeswoman lauren ehrsam said the department disagrees with robart s ruling and is currently evaluating the next steps robart who was appointed to the bench by republican former president george w bush emerged from relative obscurity in february when he issued a temporary order to lift the first version of trump s travel ban on twitter trump called him a so called judge whose ridiculous opinion essentially takes law enforcement away from our country robart s ruling represented the second legal defeat in two days for the trump administration on friday a u s appeals court said trump s travel ban targeting six muslim majority countries should not be applied to people with strong u s ties but said its ruling would be put on hold pending a decision by the u s supreme court '"
            ]
          },
          "metadata": {
            "tags": []
          },
          "execution_count": 71
        }
      ]
    },
    {
      "cell_type": "code",
      "metadata": {
        "colab": {
          "base_uri": "https://localhost:8080/"
        },
        "id": "gmns6w5HhJAd",
        "outputId": "c20ff0ef-86dc-4d69-c612-087f4ac291bf"
      },
      "source": [
        "import nltk\n",
        "nltk.download('wordnet')\n",
        "from nltk.stem import WordNetLemmatizer\n"
      ],
      "execution_count": 72,
      "outputs": [
        {
          "output_type": "stream",
          "text": [
            "[nltk_data] Downloading package wordnet to /root/nltk_data...\n",
            "[nltk_data]   Package wordnet is already up-to-date!\n"
          ],
          "name": "stdout"
        }
      ]
    },
    {
      "cell_type": "code",
      "metadata": {
        "id": "2JoXEj2YiNnU"
      },
      "source": [
        "def lemmatize(text):\n",
        "  lm=WordNetLemmatizer()\n",
        "  tokens=[lm.lemmatize(word) for word in text.split()]\n",
        "  return ' '.join(tokens)"
      ],
      "execution_count": 73,
      "outputs": []
    },
    {
      "cell_type": "code",
      "metadata": {
        "colab": {
          "base_uri": "https://localhost:8080/",
          "height": 137
        },
        "id": "0vguHTsAjKHZ",
        "outputId": "0ffdfc99-6899-4872-ecb1-866e56ea21d2"
      },
      "source": [
        "lemmatize(data['processed'][20])"
      ],
      "execution_count": 74,
      "outputs": [
        {
          "output_type": "execute_result",
          "data": {
            "application/vnd.google.colaboratory.intrinsic+json": {
              "type": "string"
            },
            "text/plain": [
              "'washington a federal judge in seattle partially blocked u s president donald trump s newest restriction on refugee admission on saturday the latest legal defeat for his effort to curtail immigration and travel to the united state the decision by u s district judge james robart is the first judicial curb on rule the trump administration put into place in late october that have contributed significantly to a precipitous drop in the number of refugee being admitted into the country refugee and group that assist them argued in court that the administration s policy violated the constitution and federal rulemaking procedure among other claim department of justice attorney argued in part that u s law grant the executive branch the authority to limit refugee admission in the way that it had done so on oct 24 the trump administration effectively paused refugee admission from 11 country mostly in the middle east and africa pending a 90 day security review which wa set to expire in late january the country subject to the review are egypt iran iraq libya mali north korea somalia south sudan sudan syria and yemen for each of the last three year refugee from the 11 country made up more than 40 percent of u s admission a review of state department data showed that a the review went into effect refugee admission from the 11 country plummeted robart ruled that the administration could carry out the security review but that it could not stop processing or admitting refugee from the 11 country in the meantime a long a those refugee have a bona fide connection to the united state a part of it new restriction the trump administration had also paused a program that allowed for family reunification for refugee pending further security screening procedure being put into place robart ordered the government to re start the program known a follow to join approximately 2 000 refugee were admitted into the united state in fiscal year 2015 under the program according to department of homeland security data refugee advocacy group praised robart s decision this ruling brings relief to thousand of refugee in precarious situation in the middle east and east africa a well a to refugee already in the u s who are trying to reunite with their spouse and child said mariko hirose litigation director for the international refugee assistance project one of the plaintiff in the case a justice department spokeswoman lauren ehrsam said the department disagrees with robart s ruling and is currently evaluating the next step robart who wa appointed to the bench by republican former president george w bush emerged from relative obscurity in february when he issued a temporary order to lift the first version of trump s travel ban on twitter trump called him a so called judge whose ridiculous opinion essentially take law enforcement away from our country robart s ruling represented the second legal defeat in two day for the trump administration on friday a u s appeal court said trump s travel ban targeting six muslim majority country should not be applied to people with strong u s tie but said it ruling would be put on hold pending a decision by the u s supreme court'"
            ]
          },
          "metadata": {
            "tags": []
          },
          "execution_count": 74
        }
      ]
    },
    {
      "cell_type": "code",
      "metadata": {
        "id": "01ecMNY0jcgx"
      },
      "source": [
        "data['processed']=data['processed'].apply(lemmatize)"
      ],
      "execution_count": 75,
      "outputs": []
    },
    {
      "cell_type": "markdown",
      "metadata": {
        "id": "-rpVZOuB2ke9"
      },
      "source": [
        "**Frequency Distribution**"
      ]
    },
    {
      "cell_type": "code",
      "metadata": {
        "id": "zOfsbhvBzRLf"
      },
      "source": [
        "from nltk import FreqDist"
      ],
      "execution_count": 126,
      "outputs": []
    },
    {
      "cell_type": "code",
      "metadata": {
        "id": "mYVmrWLXzTIN"
      },
      "source": [
        "def frequency(text):\n",
        "  lm=WordNetLemmatizer()\n",
        "  token=[lm.lemmatize(word) for word in text]\n",
        "  frequency_distribution = FreqDist(token)"
      ],
      "execution_count": 131,
      "outputs": []
    },
    {
      "cell_type": "code",
      "metadata": {
        "id": "2IHWclYA1mnN"
      },
      "source": [
        "data['processed']=data['processed'].apply(frequency)"
      ],
      "execution_count": 132,
      "outputs": []
    },
    {
      "cell_type": "code",
      "metadata": {
        "id": "yy-FjeaJzTA9"
      },
      "source": [
        "frequency_distribution.most_common(20)"
      ],
      "execution_count": null,
      "outputs": []
    },
    {
      "cell_type": "code",
      "metadata": {
        "id": "25BWW2WNzS02"
      },
      "source": [
        ""
      ],
      "execution_count": null,
      "outputs": []
    },
    {
      "cell_type": "markdown",
      "metadata": {
        "id": "byJEeMGT_IV3"
      },
      "source": [
        "**Make TfidfVectorizer**"
      ]
    },
    {
      "cell_type": "code",
      "metadata": {
        "id": "fCmy1E31jnZh"
      },
      "source": [
        "from sklearn.feature_extraction.text import TfidfVectorizer\n",
        "from sklearn.model_selection import train_test_split"
      ],
      "execution_count": 76,
      "outputs": []
    },
    {
      "cell_type": "code",
      "metadata": {
        "id": "-PMa1J0dlafx"
      },
      "source": [
        "Y=data['value']\n",
        "X=data['processed']\n",
        "x_train,x_test,y_train,y_test=train_test_split(X,Y,random_state=100,stratify=Y, test_size=0.2)"
      ],
      "execution_count": 108,
      "outputs": []
    },
    {
      "cell_type": "code",
      "metadata": {
        "id": "uRpLnKIjkEBw"
      },
      "source": [
        "tfidf=TfidfVectorizer(stop_words='english',ngram_range=(1,3),lowercase=True,max_features=5000)\n",
        "x_train_processed=tfidf.fit_transform(x_train)\n",
        "x_test_processed=tfidf.fit_transform(x_test)"
      ],
      "execution_count": 111,
      "outputs": []
    },
    {
      "cell_type": "code",
      "metadata": {
        "colab": {
          "base_uri": "https://localhost:8080/"
        },
        "id": "NVl7Jyssomjo",
        "outputId": "7a33300c-2e76-4bc6-8f65-9cd8a0dadcf7"
      },
      "source": [
        "x_train.shape"
      ],
      "execution_count": 112,
      "outputs": [
        {
          "output_type": "execute_result",
          "data": {
            "text/plain": [
              "(35918,)"
            ]
          },
          "metadata": {
            "tags": []
          },
          "execution_count": 112
        }
      ]
    },
    {
      "cell_type": "markdown",
      "metadata": {
        "id": "wVJ2mgZ28fmM"
      },
      "source": [
        "**PassiveAggressiveClassifier**"
      ]
    },
    {
      "cell_type": "code",
      "metadata": {
        "id": "DJRExyUA7ZGP"
      },
      "source": [
        "from sklearn.linear_model import PassiveAggressiveClassifier"
      ],
      "execution_count": 136,
      "outputs": []
    },
    {
      "cell_type": "code",
      "metadata": {
        "colab": {
          "base_uri": "https://localhost:8080/"
        },
        "id": "AUAZUPs67qIE",
        "outputId": "89d87886-ab86-4a44-c61c-7775d2583eac"
      },
      "source": [
        "psc=PassiveAggressiveClassifier(max_iter=100)\n",
        "psc.fit(x_train_processed, y_train)"
      ],
      "execution_count": 138,
      "outputs": [
        {
          "output_type": "execute_result",
          "data": {
            "text/plain": [
              "PassiveAggressiveClassifier(C=1.0, average=False, class_weight=None,\n",
              "                            early_stopping=False, fit_intercept=True,\n",
              "                            loss='hinge', max_iter=100, n_iter_no_change=5,\n",
              "                            n_jobs=None, random_state=None, shuffle=True,\n",
              "                            tol=0.001, validation_fraction=0.1, verbose=0,\n",
              "                            warm_start=False)"
            ]
          },
          "metadata": {
            "tags": []
          },
          "execution_count": 138
        }
      ]
    },
    {
      "cell_type": "code",
      "metadata": {
        "colab": {
          "base_uri": "https://localhost:8080/"
        },
        "id": "BQ2Vda-x7qCJ",
        "outputId": "738a8655-439b-4d7b-e1d4-35415d7502d2"
      },
      "source": [
        "pred=psc.predict(x_test_processed)\n",
        "accuracy_score(y_test,pred)"
      ],
      "execution_count": 140,
      "outputs": [
        {
          "output_type": "execute_result",
          "data": {
            "text/plain": [
              "0.6337416481069043"
            ]
          },
          "metadata": {
            "tags": []
          },
          "execution_count": 140
        }
      ]
    },
    {
      "cell_type": "markdown",
      "metadata": {
        "id": "gxgcGnYSpQn2"
      },
      "source": [
        "\n",
        "Logistic Regression"
      ]
    },
    {
      "cell_type": "code",
      "metadata": {
        "id": "ckvU6gfVorn3"
      },
      "source": [
        "from sklearn.linear_model import LogisticRegression\n",
        "from sklearn.metrics import accuracy_score,confusion_matrix"
      ],
      "execution_count": 113,
      "outputs": []
    },
    {
      "cell_type": "code",
      "metadata": {
        "colab": {
          "base_uri": "https://localhost:8080/"
        },
        "id": "2dr5rk0tpTaP",
        "outputId": "69051282-c595-42a7-f29a-31d01f789da7"
      },
      "source": [
        "lr = LogisticRegression()\n",
        "lr.fit(x_train_processed, y_train)"
      ],
      "execution_count": 114,
      "outputs": [
        {
          "output_type": "execute_result",
          "data": {
            "text/plain": [
              "LogisticRegression(C=1.0, class_weight=None, dual=False, fit_intercept=True,\n",
              "                   intercept_scaling=1, l1_ratio=None, max_iter=100,\n",
              "                   multi_class='auto', n_jobs=None, penalty='l2',\n",
              "                   random_state=None, solver='lbfgs', tol=0.0001, verbose=0,\n",
              "                   warm_start=False)"
            ]
          },
          "metadata": {
            "tags": []
          },
          "execution_count": 114
        }
      ]
    },
    {
      "cell_type": "code",
      "metadata": {
        "id": "97qiornNpXZv"
      },
      "source": [
        "pred=lr.predict(x_test_processed)"
      ],
      "execution_count": 115,
      "outputs": []
    },
    {
      "cell_type": "code",
      "metadata": {
        "colab": {
          "base_uri": "https://localhost:8080/"
        },
        "id": "1k5X0IaFsqNq",
        "outputId": "a492b9dc-ca08-4a96-e910-275f02a78257"
      },
      "source": [
        "accuracy_score(y_test,pred)"
      ],
      "execution_count": 116,
      "outputs": [
        {
          "output_type": "execute_result",
          "data": {
            "text/plain": [
              "0.6005567928730512"
            ]
          },
          "metadata": {
            "tags": []
          },
          "execution_count": 116
        }
      ]
    },
    {
      "cell_type": "code",
      "metadata": {
        "colab": {
          "base_uri": "https://localhost:8080/"
        },
        "id": "JqQgpNz-s4w2",
        "outputId": "774385fd-8ca0-4d5a-930a-7f6922b2e3ed"
      },
      "source": [
        "confusion_matrix(y_test,pred)"
      ],
      "execution_count": 117,
      "outputs": [
        {
          "output_type": "execute_result",
          "data": {
            "text/plain": [
              "array([[4514,  182],\n",
              "       [3405,  879]])"
            ]
          },
          "metadata": {
            "tags": []
          },
          "execution_count": 117
        }
      ]
    },
    {
      "cell_type": "markdown",
      "metadata": {
        "id": "pEfY8G1D2rSl"
      },
      "source": [
        "**Decision Tree Classifier**"
      ]
    },
    {
      "cell_type": "code",
      "metadata": {
        "colab": {
          "base_uri": "https://localhost:8080/"
        },
        "id": "Xh5uclZzs-dH",
        "outputId": "2756e53c-5cbf-4937-fd8c-5fd19ed3a4e5"
      },
      "source": [
        "\n",
        "from sklearn.tree import DecisionTreeClassifier\n",
        "dt = DecisionTreeClassifier()\n",
        "dt.fit(x_train_processed, y_train)"
      ],
      "execution_count": 118,
      "outputs": [
        {
          "output_type": "execute_result",
          "data": {
            "text/plain": [
              "DecisionTreeClassifier(ccp_alpha=0.0, class_weight=None, criterion='gini',\n",
              "                       max_depth=None, max_features=None, max_leaf_nodes=None,\n",
              "                       min_impurity_decrease=0.0, min_impurity_split=None,\n",
              "                       min_samples_leaf=1, min_samples_split=2,\n",
              "                       min_weight_fraction_leaf=0.0, presort='deprecated',\n",
              "                       random_state=None, splitter='best')"
            ]
          },
          "metadata": {
            "tags": []
          },
          "execution_count": 118
        }
      ]
    },
    {
      "cell_type": "code",
      "metadata": {
        "id": "YSB2m2ijtxXe"
      },
      "source": [
        "pred=dt.predict(x_test_processed)"
      ],
      "execution_count": 119,
      "outputs": []
    },
    {
      "cell_type": "code",
      "metadata": {
        "colab": {
          "base_uri": "https://localhost:8080/"
        },
        "id": "zWhhlfYWtYwJ",
        "outputId": "cb1246f4-fd0b-40b4-d2c4-84afb619fbb2"
      },
      "source": [
        "accuracy_score(y_test,pred)"
      ],
      "execution_count": 120,
      "outputs": [
        {
          "output_type": "execute_result",
          "data": {
            "text/plain": [
              "0.5689309576837417"
            ]
          },
          "metadata": {
            "tags": []
          },
          "execution_count": 120
        }
      ]
    },
    {
      "cell_type": "code",
      "metadata": {
        "colab": {
          "base_uri": "https://localhost:8080/"
        },
        "id": "VOMvvqzJtia2",
        "outputId": "1914a9d9-9177-47f3-cf99-7c5aea508866"
      },
      "source": [
        "confusion_matrix(y_test,pred)"
      ],
      "execution_count": 121,
      "outputs": [
        {
          "output_type": "execute_result",
          "data": {
            "text/plain": [
              "array([[2580, 2116],\n",
              "       [1755, 2529]])"
            ]
          },
          "metadata": {
            "tags": []
          },
          "execution_count": 121
        }
      ]
    },
    {
      "cell_type": "markdown",
      "metadata": {
        "id": "X6TyOEg42wQd"
      },
      "source": [
        "**Random Forest Classifier**"
      ]
    },
    {
      "cell_type": "code",
      "metadata": {
        "colab": {
          "base_uri": "https://localhost:8080/"
        },
        "id": "6Op66jG5t12m",
        "outputId": "aa1aa358-cc76-430b-c0f1-1bd124fe225f"
      },
      "source": [
        "from sklearn.ensemble import RandomForestClassifier\n",
        "rfc = RandomForestClassifier()\n",
        "rfc.fit(x_train_processed, y_train)"
      ],
      "execution_count": 122,
      "outputs": [
        {
          "output_type": "execute_result",
          "data": {
            "text/plain": [
              "RandomForestClassifier(bootstrap=True, ccp_alpha=0.0, class_weight=None,\n",
              "                       criterion='gini', max_depth=None, max_features='auto',\n",
              "                       max_leaf_nodes=None, max_samples=None,\n",
              "                       min_impurity_decrease=0.0, min_impurity_split=None,\n",
              "                       min_samples_leaf=1, min_samples_split=2,\n",
              "                       min_weight_fraction_leaf=0.0, n_estimators=100,\n",
              "                       n_jobs=None, oob_score=False, random_state=None,\n",
              "                       verbose=0, warm_start=False)"
            ]
          },
          "metadata": {
            "tags": []
          },
          "execution_count": 122
        }
      ]
    },
    {
      "cell_type": "code",
      "metadata": {
        "id": "76vnnsE1uAod"
      },
      "source": [
        "pred=rfc.predict(x_test_processed)"
      ],
      "execution_count": 123,
      "outputs": []
    },
    {
      "cell_type": "code",
      "metadata": {
        "colab": {
          "base_uri": "https://localhost:8080/"
        },
        "id": "ZMJRMAtcuCxo",
        "outputId": "3f6a99a9-c2b2-40b7-a004-484e65c66d99"
      },
      "source": [
        "accuracy_score(y_test,pred)"
      ],
      "execution_count": 124,
      "outputs": [
        {
          "output_type": "execute_result",
          "data": {
            "text/plain": [
              "0.6800668151447662"
            ]
          },
          "metadata": {
            "tags": []
          },
          "execution_count": 124
        }
      ]
    },
    {
      "cell_type": "code",
      "metadata": {
        "colab": {
          "base_uri": "https://localhost:8080/"
        },
        "id": "1K0nJJWmuJI_",
        "outputId": "052673be-f553-4ffa-8f60-7012d23c6721"
      },
      "source": [
        "confusion_matrix(y_test,pred)"
      ],
      "execution_count": 125,
      "outputs": [
        {
          "output_type": "execute_result",
          "data": {
            "text/plain": [
              "array([[4009,  687],\n",
              "       [2186, 2098]])"
            ]
          },
          "metadata": {
            "tags": []
          },
          "execution_count": 125
        }
      ]
    },
    {
      "cell_type": "markdown",
      "metadata": {
        "id": "TxLcV4GQ_TaP"
      },
      "source": [
        "Save Model"
      ]
    },
    {
      "cell_type": "code",
      "metadata": {
        "id": "ePS6-1onujNO"
      },
      "source": [
        "import pickle\n",
        "pickle.dump(rfc,open('rfc_mode.pkl','wb'))"
      ],
      "execution_count": 141,
      "outputs": []
    },
    {
      "cell_type": "code",
      "metadata": {
        "id": "M7pGPzHg9LrO"
      },
      "source": [
        ""
      ],
      "execution_count": null,
      "outputs": []
    }
  ]
}